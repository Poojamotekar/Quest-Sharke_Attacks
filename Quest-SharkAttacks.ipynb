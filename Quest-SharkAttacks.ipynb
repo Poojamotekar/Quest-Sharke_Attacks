{
 "cells": [
  {
   "cell_type": "code",
   "execution_count": 1,
   "id": "45335840-9dbf-494d-b6e3-b64f9c6d8116",
   "metadata": {},
   "outputs": [],
   "source": [
    "import pandas as pd\n",
    "import numpy as np"
   ]
  },
  {
   "cell_type": "code",
   "execution_count": 2,
   "id": "69285439-83c2-4e26-8bcf-e4b5fff553ab",
   "metadata": {},
   "outputs": [
    {
     "name": "stdout",
     "output_type": "stream",
     "text": [
      "Requirement already satisfied: xlrd in c:\\users\\pc\\anaconda3\\lib\\site-packages (2.0.1)\n"
     ]
    }
   ],
   "source": [
    "!pip install xlrd"
   ]
  },
  {
   "cell_type": "markdown",
   "id": "417a8a85-bc10-46e3-9494-fac45f62ad64",
   "metadata": {},
   "source": [
    "<h1 style=\"color: #00BFFF;\">02 | Data Cleaning</h1>"
   ]
  },
  {
   "cell_type": "code",
   "execution_count": 3,
   "id": "773257dd-c15f-4f79-b77e-7ad277467174",
   "metadata": {},
   "outputs": [],
   "source": [
    "df=pd.read_excel('GSAF5.xls')"
   ]
  },
  {
   "cell_type": "markdown",
   "id": "6fd7d97c-bdb3-4ec7-aaca-5b6b76210499",
   "metadata": {},
   "source": [
    "<h2 style=\"color: #008080;\">Exploring the Data (First Impression)</h2>"
   ]
  },
  {
   "cell_type": "code",
   "execution_count": 4,
   "id": "a8a1df69-ee9b-4747-b8b9-0a92ade8a5f5",
   "metadata": {},
   "outputs": [
    {
     "data": {
      "text/html": [
       "<div>\n",
       "<style scoped>\n",
       "    .dataframe tbody tr th:only-of-type {\n",
       "        vertical-align: middle;\n",
       "    }\n",
       "\n",
       "    .dataframe tbody tr th {\n",
       "        vertical-align: top;\n",
       "    }\n",
       "\n",
       "    .dataframe thead th {\n",
       "        text-align: right;\n",
       "    }\n",
       "</style>\n",
       "<table border=\"1\" class=\"dataframe\">\n",
       "  <thead>\n",
       "    <tr style=\"text-align: right;\">\n",
       "      <th></th>\n",
       "      <th>Date</th>\n",
       "      <th>Year</th>\n",
       "      <th>Type</th>\n",
       "      <th>Country</th>\n",
       "      <th>State</th>\n",
       "      <th>Location</th>\n",
       "      <th>Activity</th>\n",
       "      <th>Name</th>\n",
       "      <th>Sex</th>\n",
       "      <th>Age</th>\n",
       "      <th>...</th>\n",
       "      <th>Species</th>\n",
       "      <th>Source</th>\n",
       "      <th>pdf</th>\n",
       "      <th>href formula</th>\n",
       "      <th>href</th>\n",
       "      <th>Case Number</th>\n",
       "      <th>Case Number.1</th>\n",
       "      <th>original order</th>\n",
       "      <th>Unnamed: 21</th>\n",
       "      <th>Unnamed: 22</th>\n",
       "    </tr>\n",
       "  </thead>\n",
       "  <tbody>\n",
       "    <tr>\n",
       "      <th>0</th>\n",
       "      <td>04 Mar 2024</td>\n",
       "      <td>2024.0</td>\n",
       "      <td>Unprovoked</td>\n",
       "      <td>USA</td>\n",
       "      <td>Hawaii</td>\n",
       "      <td>Old Man's, Waikiki</td>\n",
       "      <td>Surfing</td>\n",
       "      <td>Matthew White</td>\n",
       "      <td>M</td>\n",
       "      <td>NaN</td>\n",
       "      <td>...</td>\n",
       "      <td>Tiger shark 8'</td>\n",
       "      <td>Surfer, 3/6/2024F</td>\n",
       "      <td>NaN</td>\n",
       "      <td>NaN</td>\n",
       "      <td>NaN</td>\n",
       "      <td>NaN</td>\n",
       "      <td>NaN</td>\n",
       "      <td>NaN</td>\n",
       "      <td>NaN</td>\n",
       "      <td>NaN</td>\n",
       "    </tr>\n",
       "    <tr>\n",
       "      <th>1</th>\n",
       "      <td>02 Mar-2024</td>\n",
       "      <td>2024.0</td>\n",
       "      <td>Unprovoked</td>\n",
       "      <td>USA</td>\n",
       "      <td>Hawaii</td>\n",
       "      <td>Rainbows, Oahu</td>\n",
       "      <td>Swimming</td>\n",
       "      <td>NaN</td>\n",
       "      <td>F</td>\n",
       "      <td>11</td>\n",
       "      <td>...</td>\n",
       "      <td>3' to 4' shark</td>\n",
       "      <td>Hawaii News Now, 3/4/2024</td>\n",
       "      <td>NaN</td>\n",
       "      <td>NaN</td>\n",
       "      <td>NaN</td>\n",
       "      <td>NaN</td>\n",
       "      <td>NaN</td>\n",
       "      <td>NaN</td>\n",
       "      <td>NaN</td>\n",
       "      <td>NaN</td>\n",
       "    </tr>\n",
       "    <tr>\n",
       "      <th>2</th>\n",
       "      <td>25 Feb-2024</td>\n",
       "      <td>2024.0</td>\n",
       "      <td>Unprovoked</td>\n",
       "      <td>AUSTRALIA</td>\n",
       "      <td>Western Australia</td>\n",
       "      <td>Sandlnd Island, Jurian Bay</td>\n",
       "      <td>NaN</td>\n",
       "      <td>female</td>\n",
       "      <td>F</td>\n",
       "      <td>46</td>\n",
       "      <td>...</td>\n",
       "      <td>Tiger shark</td>\n",
       "      <td>WA Today, 2/26/2024</td>\n",
       "      <td>NaN</td>\n",
       "      <td>NaN</td>\n",
       "      <td>NaN</td>\n",
       "      <td>NaN</td>\n",
       "      <td>NaN</td>\n",
       "      <td>NaN</td>\n",
       "      <td>NaN</td>\n",
       "      <td>NaN</td>\n",
       "    </tr>\n",
       "    <tr>\n",
       "      <th>3</th>\n",
       "      <td>14 Feb-2024</td>\n",
       "      <td>2024.0</td>\n",
       "      <td>Unprovoked</td>\n",
       "      <td>INDIA</td>\n",
       "      <td>Maharashtra</td>\n",
       "      <td>Vaitarna River, Palghar District</td>\n",
       "      <td>Fishing</td>\n",
       "      <td>Vicky Suresh Govari</td>\n",
       "      <td>M</td>\n",
       "      <td>32</td>\n",
       "      <td>...</td>\n",
       "      <td>Bull shark, 7'</td>\n",
       "      <td>Times of India, 2/14/2024</td>\n",
       "      <td>NaN</td>\n",
       "      <td>NaN</td>\n",
       "      <td>NaN</td>\n",
       "      <td>NaN</td>\n",
       "      <td>NaN</td>\n",
       "      <td>NaN</td>\n",
       "      <td>NaN</td>\n",
       "      <td>NaN</td>\n",
       "    </tr>\n",
       "    <tr>\n",
       "      <th>4</th>\n",
       "      <td>04-Feb-2024</td>\n",
       "      <td>2024.0</td>\n",
       "      <td>Provoked</td>\n",
       "      <td>TRINIDAD</td>\n",
       "      <td>NaN</td>\n",
       "      <td>NaN</td>\n",
       "      <td>Spearfishing</td>\n",
       "      <td>male</td>\n",
       "      <td>M</td>\n",
       "      <td>NaN</td>\n",
       "      <td>...</td>\n",
       "      <td>Blacktip reef shark</td>\n",
       "      <td>Trinidad Guardian, 2/11/2014</td>\n",
       "      <td>NaN</td>\n",
       "      <td>NaN</td>\n",
       "      <td>NaN</td>\n",
       "      <td>NaN</td>\n",
       "      <td>NaN</td>\n",
       "      <td>NaN</td>\n",
       "      <td>NaN</td>\n",
       "      <td>NaN</td>\n",
       "    </tr>\n",
       "  </tbody>\n",
       "</table>\n",
       "<p>5 rows × 23 columns</p>\n",
       "</div>"
      ],
      "text/plain": [
       "          Date    Year        Type    Country              State  \\\n",
       "0  04 Mar 2024  2024.0  Unprovoked        USA             Hawaii   \n",
       "1  02 Mar-2024  2024.0  Unprovoked        USA             Hawaii   \n",
       "2  25 Feb-2024  2024.0  Unprovoked  AUSTRALIA  Western Australia   \n",
       "3  14 Feb-2024  2024.0  Unprovoked      INDIA        Maharashtra   \n",
       "4  04-Feb-2024  2024.0    Provoked   TRINIDAD                NaN   \n",
       "\n",
       "                           Location      Activity                 Name Sex  \\\n",
       "0                Old Man's, Waikiki       Surfing        Matthew White   M   \n",
       "1                    Rainbows, Oahu      Swimming                  NaN   F   \n",
       "2        Sandlnd Island, Jurian Bay           NaN               female   F   \n",
       "3  Vaitarna River, Palghar District       Fishing  Vicky Suresh Govari   M   \n",
       "4                               NaN  Spearfishing                 male   M   \n",
       "\n",
       "   Age  ...             Species                         Source  pdf  \\\n",
       "0  NaN  ...       Tiger shark 8'             Surfer, 3/6/2024F  NaN   \n",
       "1   11  ...       3' to 4' shark     Hawaii News Now, 3/4/2024  NaN   \n",
       "2   46  ...          Tiger shark           WA Today, 2/26/2024  NaN   \n",
       "3   32  ...       Bull shark, 7'     Times of India, 2/14/2024  NaN   \n",
       "4  NaN  ...  Blacktip reef shark  Trinidad Guardian, 2/11/2014  NaN   \n",
       "\n",
       "  href formula href Case Number Case Number.1 original order Unnamed: 21  \\\n",
       "0          NaN  NaN         NaN           NaN            NaN         NaN   \n",
       "1          NaN  NaN         NaN           NaN            NaN         NaN   \n",
       "2          NaN  NaN         NaN           NaN            NaN         NaN   \n",
       "3          NaN  NaN         NaN           NaN            NaN         NaN   \n",
       "4          NaN  NaN         NaN           NaN            NaN         NaN   \n",
       "\n",
       "  Unnamed: 22  \n",
       "0         NaN  \n",
       "1         NaN  \n",
       "2         NaN  \n",
       "3         NaN  \n",
       "4         NaN  \n",
       "\n",
       "[5 rows x 23 columns]"
      ]
     },
     "execution_count": 4,
     "metadata": {},
     "output_type": "execute_result"
    }
   ],
   "source": [
    "df.head(5)"
   ]
  },
  {
   "cell_type": "code",
   "execution_count": 5,
   "id": "a12dc28d-001e-4819-9bae-7fa2b5279dc4",
   "metadata": {},
   "outputs": [
    {
     "data": {
      "text/html": [
       "<div>\n",
       "<style scoped>\n",
       "    .dataframe tbody tr th:only-of-type {\n",
       "        vertical-align: middle;\n",
       "    }\n",
       "\n",
       "    .dataframe tbody tr th {\n",
       "        vertical-align: top;\n",
       "    }\n",
       "\n",
       "    .dataframe thead th {\n",
       "        text-align: right;\n",
       "    }\n",
       "</style>\n",
       "<table border=\"1\" class=\"dataframe\">\n",
       "  <thead>\n",
       "    <tr style=\"text-align: right;\">\n",
       "      <th></th>\n",
       "      <th>Date</th>\n",
       "      <th>Year</th>\n",
       "      <th>Type</th>\n",
       "      <th>Country</th>\n",
       "      <th>State</th>\n",
       "      <th>Location</th>\n",
       "      <th>Activity</th>\n",
       "      <th>Name</th>\n",
       "      <th>Sex</th>\n",
       "      <th>Age</th>\n",
       "      <th>...</th>\n",
       "      <th>Species</th>\n",
       "      <th>Source</th>\n",
       "      <th>pdf</th>\n",
       "      <th>href formula</th>\n",
       "      <th>href</th>\n",
       "      <th>Case Number</th>\n",
       "      <th>Case Number.1</th>\n",
       "      <th>original order</th>\n",
       "      <th>Unnamed: 21</th>\n",
       "      <th>Unnamed: 22</th>\n",
       "    </tr>\n",
       "  </thead>\n",
       "  <tbody>\n",
       "    <tr>\n",
       "      <th>6963</th>\n",
       "      <td>NaN</td>\n",
       "      <td>NaN</td>\n",
       "      <td>NaN</td>\n",
       "      <td>NaN</td>\n",
       "      <td>NaN</td>\n",
       "      <td>NaN</td>\n",
       "      <td>NaN</td>\n",
       "      <td>NaN</td>\n",
       "      <td>NaN</td>\n",
       "      <td>NaN</td>\n",
       "      <td>...</td>\n",
       "      <td>NaN</td>\n",
       "      <td>NaN</td>\n",
       "      <td>NaN</td>\n",
       "      <td>http://sharkattackfile.net/spreadsheets/pdf_di...</td>\n",
       "      <td>NaN</td>\n",
       "      <td>NaN</td>\n",
       "      <td>NaN</td>\n",
       "      <td>NaN</td>\n",
       "      <td>NaN</td>\n",
       "      <td>NaN</td>\n",
       "    </tr>\n",
       "    <tr>\n",
       "      <th>6964</th>\n",
       "      <td>NaN</td>\n",
       "      <td>NaN</td>\n",
       "      <td>NaN</td>\n",
       "      <td>NaN</td>\n",
       "      <td>NaN</td>\n",
       "      <td>NaN</td>\n",
       "      <td>NaN</td>\n",
       "      <td>NaN</td>\n",
       "      <td>NaN</td>\n",
       "      <td>NaN</td>\n",
       "      <td>...</td>\n",
       "      <td>NaN</td>\n",
       "      <td>NaN</td>\n",
       "      <td>NaN</td>\n",
       "      <td>http://sharkattackfile.net/spreadsheets/pdf_di...</td>\n",
       "      <td>NaN</td>\n",
       "      <td>NaN</td>\n",
       "      <td>NaN</td>\n",
       "      <td>NaN</td>\n",
       "      <td>NaN</td>\n",
       "      <td>NaN</td>\n",
       "    </tr>\n",
       "    <tr>\n",
       "      <th>6965</th>\n",
       "      <td>NaN</td>\n",
       "      <td>NaN</td>\n",
       "      <td>NaN</td>\n",
       "      <td>NaN</td>\n",
       "      <td>NaN</td>\n",
       "      <td>NaN</td>\n",
       "      <td>NaN</td>\n",
       "      <td>NaN</td>\n",
       "      <td>NaN</td>\n",
       "      <td>NaN</td>\n",
       "      <td>...</td>\n",
       "      <td>NaN</td>\n",
       "      <td>NaN</td>\n",
       "      <td>NaN</td>\n",
       "      <td>http://sharkattackfile.net/spreadsheets/pdf_di...</td>\n",
       "      <td>NaN</td>\n",
       "      <td>NaN</td>\n",
       "      <td>NaN</td>\n",
       "      <td>NaN</td>\n",
       "      <td>NaN</td>\n",
       "      <td>NaN</td>\n",
       "    </tr>\n",
       "    <tr>\n",
       "      <th>6966</th>\n",
       "      <td>NaN</td>\n",
       "      <td>NaN</td>\n",
       "      <td>NaN</td>\n",
       "      <td>NaN</td>\n",
       "      <td>NaN</td>\n",
       "      <td>NaN</td>\n",
       "      <td>NaN</td>\n",
       "      <td>NaN</td>\n",
       "      <td>NaN</td>\n",
       "      <td>NaN</td>\n",
       "      <td>...</td>\n",
       "      <td>NaN</td>\n",
       "      <td>NaN</td>\n",
       "      <td>NaN</td>\n",
       "      <td>http://sharkattackfile.net/spreadsheets/pdf_di...</td>\n",
       "      <td>NaN</td>\n",
       "      <td>NaN</td>\n",
       "      <td>NaN</td>\n",
       "      <td>NaN</td>\n",
       "      <td>NaN</td>\n",
       "      <td>NaN</td>\n",
       "    </tr>\n",
       "    <tr>\n",
       "      <th>6967</th>\n",
       "      <td>NaN</td>\n",
       "      <td>NaN</td>\n",
       "      <td>NaN</td>\n",
       "      <td>NaN</td>\n",
       "      <td>NaN</td>\n",
       "      <td>NaN</td>\n",
       "      <td>NaN</td>\n",
       "      <td>NaN</td>\n",
       "      <td>NaN</td>\n",
       "      <td>NaN</td>\n",
       "      <td>...</td>\n",
       "      <td>NaN</td>\n",
       "      <td>NaN</td>\n",
       "      <td>NaN</td>\n",
       "      <td>http://sharkattackfile.net/spreadsheets/pdf_di...</td>\n",
       "      <td>NaN</td>\n",
       "      <td>NaN</td>\n",
       "      <td>NaN</td>\n",
       "      <td>NaN</td>\n",
       "      <td>NaN</td>\n",
       "      <td>NaN</td>\n",
       "    </tr>\n",
       "  </tbody>\n",
       "</table>\n",
       "<p>5 rows × 23 columns</p>\n",
       "</div>"
      ],
      "text/plain": [
       "     Date  Year Type Country State Location Activity Name  Sex  Age  ...  \\\n",
       "6963  NaN   NaN  NaN     NaN   NaN      NaN      NaN  NaN  NaN  NaN  ...   \n",
       "6964  NaN   NaN  NaN     NaN   NaN      NaN      NaN  NaN  NaN  NaN  ...   \n",
       "6965  NaN   NaN  NaN     NaN   NaN      NaN      NaN  NaN  NaN  NaN  ...   \n",
       "6966  NaN   NaN  NaN     NaN   NaN      NaN      NaN  NaN  NaN  NaN  ...   \n",
       "6967  NaN   NaN  NaN     NaN   NaN      NaN      NaN  NaN  NaN  NaN  ...   \n",
       "\n",
       "     Species  Source  pdf                                       href formula  \\\n",
       "6963      NaN    NaN  NaN  http://sharkattackfile.net/spreadsheets/pdf_di...   \n",
       "6964      NaN    NaN  NaN  http://sharkattackfile.net/spreadsheets/pdf_di...   \n",
       "6965      NaN    NaN  NaN  http://sharkattackfile.net/spreadsheets/pdf_di...   \n",
       "6966      NaN    NaN  NaN  http://sharkattackfile.net/spreadsheets/pdf_di...   \n",
       "6967      NaN    NaN  NaN  http://sharkattackfile.net/spreadsheets/pdf_di...   \n",
       "\n",
       "     href Case Number Case Number.1 original order Unnamed: 21 Unnamed: 22  \n",
       "6963  NaN         NaN           NaN            NaN         NaN         NaN  \n",
       "6964  NaN         NaN           NaN            NaN         NaN         NaN  \n",
       "6965  NaN         NaN           NaN            NaN         NaN         NaN  \n",
       "6966  NaN         NaN           NaN            NaN         NaN         NaN  \n",
       "6967  NaN         NaN           NaN            NaN         NaN         NaN  \n",
       "\n",
       "[5 rows x 23 columns]"
      ]
     },
     "execution_count": 5,
     "metadata": {},
     "output_type": "execute_result"
    }
   ],
   "source": [
    "df.tail(5)"
   ]
  },
  {
   "cell_type": "code",
   "execution_count": 6,
   "id": "361b4a5a-2510-4520-b45e-57a367be5c79",
   "metadata": {},
   "outputs": [
    {
     "data": {
      "text/plain": [
       "(6968, 23)"
      ]
     },
     "execution_count": 6,
     "metadata": {},
     "output_type": "execute_result"
    }
   ],
   "source": [
    "df.shape"
   ]
  },
  {
   "cell_type": "code",
   "execution_count": 7,
   "id": "28063e72-4cfb-4fac-99bc-c8890842b7c4",
   "metadata": {},
   "outputs": [
    {
     "name": "stdout",
     "output_type": "stream",
     "text": [
      "<class 'pandas.core.frame.DataFrame'>\n",
      "RangeIndex: 6968 entries, 0 to 6967\n",
      "Data columns (total 23 columns):\n",
      " #   Column          Non-Null Count  Dtype  \n",
      "---  ------          --------------  -----  \n",
      " 0   Date            6943 non-null   object \n",
      " 1   Year            6941 non-null   float64\n",
      " 2   Type            6925 non-null   object \n",
      " 3   Country         6893 non-null   object \n",
      " 4   State           6461 non-null   object \n",
      " 5   Location        6378 non-null   object \n",
      " 6   Activity        6357 non-null   object \n",
      " 7   Name            6723 non-null   object \n",
      " 8   Sex             6364 non-null   object \n",
      " 9   Age             3949 non-null   object \n",
      " 10  Injury          6908 non-null   object \n",
      " 11  Unnamed: 11     6382 non-null   object \n",
      " 12  Time            3417 non-null   object \n",
      " 13  Species         3811 non-null   object \n",
      " 14  Source          6924 non-null   object \n",
      " 15  pdf             6799 non-null   object \n",
      " 16  href formula    6819 non-null   object \n",
      " 17  href            6796 non-null   object \n",
      " 18  Case Number     6798 non-null   object \n",
      " 19  Case Number.1   6797 non-null   object \n",
      " 20  original order  6799 non-null   float64\n",
      " 21  Unnamed: 21     1 non-null      object \n",
      " 22  Unnamed: 22     2 non-null      object \n",
      "dtypes: float64(2), object(21)\n",
      "memory usage: 1.2+ MB\n"
     ]
    }
   ],
   "source": [
    "df.info()"
   ]
  },
  {
   "cell_type": "code",
   "execution_count": 8,
   "id": "eb372b0f-d3aa-4320-a147-a8dd3613cbaf",
   "metadata": {},
   "outputs": [],
   "source": [
    "#Date is having object type so we need to change,as well as year is float and there are duplicate columns case number 1"
   ]
  },
  {
   "cell_type": "code",
   "execution_count": 9,
   "id": "b7b20325-8db2-4f17-a0fe-b182e603bd2d",
   "metadata": {},
   "outputs": [
    {
     "data": {
      "text/plain": [
       "Date                25\n",
       "Year                27\n",
       "Type                43\n",
       "Country             75\n",
       "State              507\n",
       "Location           590\n",
       "Activity           611\n",
       "Name               245\n",
       "Sex                604\n",
       "Age               3019\n",
       "Injury              60\n",
       "Unnamed: 11        586\n",
       "Time              3551\n",
       "Species           3157\n",
       "Source              44\n",
       "pdf                169\n",
       "href formula       149\n",
       "href               172\n",
       "Case Number        170\n",
       "Case Number.1      171\n",
       "original order     169\n",
       "Unnamed: 21       6967\n",
       "Unnamed: 22       6966\n",
       "dtype: int64"
      ]
     },
     "execution_count": 9,
     "metadata": {},
     "output_type": "execute_result"
    }
   ],
   "source": [
    "df.isnull().sum()    #(6968, 23)"
   ]
  },
  {
   "cell_type": "code",
   "execution_count": 10,
   "id": "01f46595-3db0-4b50-98a3-30bda159c998",
   "metadata": {},
   "outputs": [],
   "source": [
    "#df[\"Species \"].unique()"
   ]
  },
  {
   "cell_type": "code",
   "execution_count": 11,
   "id": "a309dcca-f3f9-4e1d-8fdd-b7f9e31c4525",
   "metadata": {},
   "outputs": [],
   "source": [
    "df.columns = df.columns.str.lower().str.replace(' ', '_')"
   ]
  },
  {
   "cell_type": "code",
   "execution_count": 12,
   "id": "b076a7ab-ce3a-4304-87cd-8f56c161d216",
   "metadata": {},
   "outputs": [
    {
     "data": {
      "text/plain": [
       "Index(['date', 'year', 'type', 'country', 'state', 'location', 'activity',\n",
       "       'name', 'sex', 'age', 'injury', 'unnamed:_11', 'time', 'species_',\n",
       "       'source', 'pdf', 'href_formula', 'href', 'case_number', 'case_number.1',\n",
       "       'original_order', 'unnamed:_21', 'unnamed:_22'],\n",
       "      dtype='object')"
      ]
     },
     "execution_count": 12,
     "metadata": {},
     "output_type": "execute_result"
    }
   ],
   "source": [
    "df.columns"
   ]
  },
  {
   "cell_type": "code",
   "execution_count": 13,
   "id": "e33d87dd-7716-486f-9989-d58605b75af5",
   "metadata": {},
   "outputs": [
    {
     "data": {
      "text/html": [
       "<div>\n",
       "<style scoped>\n",
       "    .dataframe tbody tr th:only-of-type {\n",
       "        vertical-align: middle;\n",
       "    }\n",
       "\n",
       "    .dataframe tbody tr th {\n",
       "        vertical-align: top;\n",
       "    }\n",
       "\n",
       "    .dataframe thead th {\n",
       "        text-align: right;\n",
       "    }\n",
       "</style>\n",
       "<table border=\"1\" class=\"dataframe\">\n",
       "  <thead>\n",
       "    <tr style=\"text-align: right;\">\n",
       "      <th></th>\n",
       "      <th>date</th>\n",
       "      <th>year</th>\n",
       "      <th>type</th>\n",
       "      <th>country</th>\n",
       "      <th>state</th>\n",
       "      <th>location</th>\n",
       "      <th>activity</th>\n",
       "      <th>name</th>\n",
       "      <th>sex</th>\n",
       "      <th>age</th>\n",
       "      <th>injury</th>\n",
       "      <th>time</th>\n",
       "      <th>species_</th>\n",
       "      <th>source</th>\n",
       "    </tr>\n",
       "  </thead>\n",
       "  <tbody>\n",
       "    <tr>\n",
       "      <th>0</th>\n",
       "      <td>04 Mar 2024</td>\n",
       "      <td>2024.0</td>\n",
       "      <td>Unprovoked</td>\n",
       "      <td>USA</td>\n",
       "      <td>Hawaii</td>\n",
       "      <td>Old Man's, Waikiki</td>\n",
       "      <td>Surfing</td>\n",
       "      <td>Matthew White</td>\n",
       "      <td>M</td>\n",
       "      <td>NaN</td>\n",
       "      <td>No injury, shark bit surfboard</td>\n",
       "      <td>NaN</td>\n",
       "      <td>Tiger shark 8'</td>\n",
       "      <td>Surfer, 3/6/2024F</td>\n",
       "    </tr>\n",
       "    <tr>\n",
       "      <th>1</th>\n",
       "      <td>02 Mar-2024</td>\n",
       "      <td>2024.0</td>\n",
       "      <td>Unprovoked</td>\n",
       "      <td>USA</td>\n",
       "      <td>Hawaii</td>\n",
       "      <td>Rainbows, Oahu</td>\n",
       "      <td>Swimming</td>\n",
       "      <td>NaN</td>\n",
       "      <td>F</td>\n",
       "      <td>11</td>\n",
       "      <td>Lacerations to left foot</td>\n",
       "      <td>13h30</td>\n",
       "      <td>3' to 4' shark</td>\n",
       "      <td>Hawaii News Now, 3/4/2024</td>\n",
       "    </tr>\n",
       "    <tr>\n",
       "      <th>2</th>\n",
       "      <td>25 Feb-2024</td>\n",
       "      <td>2024.0</td>\n",
       "      <td>Unprovoked</td>\n",
       "      <td>AUSTRALIA</td>\n",
       "      <td>Western Australia</td>\n",
       "      <td>Sandlnd Island, Jurian Bay</td>\n",
       "      <td>NaN</td>\n",
       "      <td>female</td>\n",
       "      <td>F</td>\n",
       "      <td>46</td>\n",
       "      <td>Leg bitten</td>\n",
       "      <td>11h30</td>\n",
       "      <td>Tiger shark</td>\n",
       "      <td>WA Today, 2/26/2024</td>\n",
       "    </tr>\n",
       "    <tr>\n",
       "      <th>3</th>\n",
       "      <td>14 Feb-2024</td>\n",
       "      <td>2024.0</td>\n",
       "      <td>Unprovoked</td>\n",
       "      <td>INDIA</td>\n",
       "      <td>Maharashtra</td>\n",
       "      <td>Vaitarna River, Palghar District</td>\n",
       "      <td>Fishing</td>\n",
       "      <td>Vicky Suresh Govari</td>\n",
       "      <td>M</td>\n",
       "      <td>32</td>\n",
       "      <td>Calf of lower left leg injured</td>\n",
       "      <td>NaN</td>\n",
       "      <td>Bull shark, 7'</td>\n",
       "      <td>Times of India, 2/14/2024</td>\n",
       "    </tr>\n",
       "    <tr>\n",
       "      <th>4</th>\n",
       "      <td>04-Feb-2024</td>\n",
       "      <td>2024.0</td>\n",
       "      <td>Provoked</td>\n",
       "      <td>TRINIDAD</td>\n",
       "      <td>NaN</td>\n",
       "      <td>NaN</td>\n",
       "      <td>Spearfishing</td>\n",
       "      <td>male</td>\n",
       "      <td>M</td>\n",
       "      <td>NaN</td>\n",
       "      <td>Shoulder bitten</td>\n",
       "      <td>06h30</td>\n",
       "      <td>Blacktip reef shark</td>\n",
       "      <td>Trinidad Guardian, 2/11/2014</td>\n",
       "    </tr>\n",
       "    <tr>\n",
       "      <th>...</th>\n",
       "      <td>...</td>\n",
       "      <td>...</td>\n",
       "      <td>...</td>\n",
       "      <td>...</td>\n",
       "      <td>...</td>\n",
       "      <td>...</td>\n",
       "      <td>...</td>\n",
       "      <td>...</td>\n",
       "      <td>...</td>\n",
       "      <td>...</td>\n",
       "      <td>...</td>\n",
       "      <td>...</td>\n",
       "      <td>...</td>\n",
       "      <td>...</td>\n",
       "    </tr>\n",
       "    <tr>\n",
       "      <th>6963</th>\n",
       "      <td>NaN</td>\n",
       "      <td>NaN</td>\n",
       "      <td>NaN</td>\n",
       "      <td>NaN</td>\n",
       "      <td>NaN</td>\n",
       "      <td>NaN</td>\n",
       "      <td>NaN</td>\n",
       "      <td>NaN</td>\n",
       "      <td>NaN</td>\n",
       "      <td>NaN</td>\n",
       "      <td>NaN</td>\n",
       "      <td>NaN</td>\n",
       "      <td>NaN</td>\n",
       "      <td>NaN</td>\n",
       "    </tr>\n",
       "    <tr>\n",
       "      <th>6964</th>\n",
       "      <td>NaN</td>\n",
       "      <td>NaN</td>\n",
       "      <td>NaN</td>\n",
       "      <td>NaN</td>\n",
       "      <td>NaN</td>\n",
       "      <td>NaN</td>\n",
       "      <td>NaN</td>\n",
       "      <td>NaN</td>\n",
       "      <td>NaN</td>\n",
       "      <td>NaN</td>\n",
       "      <td>NaN</td>\n",
       "      <td>NaN</td>\n",
       "      <td>NaN</td>\n",
       "      <td>NaN</td>\n",
       "    </tr>\n",
       "    <tr>\n",
       "      <th>6965</th>\n",
       "      <td>NaN</td>\n",
       "      <td>NaN</td>\n",
       "      <td>NaN</td>\n",
       "      <td>NaN</td>\n",
       "      <td>NaN</td>\n",
       "      <td>NaN</td>\n",
       "      <td>NaN</td>\n",
       "      <td>NaN</td>\n",
       "      <td>NaN</td>\n",
       "      <td>NaN</td>\n",
       "      <td>NaN</td>\n",
       "      <td>NaN</td>\n",
       "      <td>NaN</td>\n",
       "      <td>NaN</td>\n",
       "    </tr>\n",
       "    <tr>\n",
       "      <th>6966</th>\n",
       "      <td>NaN</td>\n",
       "      <td>NaN</td>\n",
       "      <td>NaN</td>\n",
       "      <td>NaN</td>\n",
       "      <td>NaN</td>\n",
       "      <td>NaN</td>\n",
       "      <td>NaN</td>\n",
       "      <td>NaN</td>\n",
       "      <td>NaN</td>\n",
       "      <td>NaN</td>\n",
       "      <td>NaN</td>\n",
       "      <td>NaN</td>\n",
       "      <td>NaN</td>\n",
       "      <td>NaN</td>\n",
       "    </tr>\n",
       "    <tr>\n",
       "      <th>6967</th>\n",
       "      <td>NaN</td>\n",
       "      <td>NaN</td>\n",
       "      <td>NaN</td>\n",
       "      <td>NaN</td>\n",
       "      <td>NaN</td>\n",
       "      <td>NaN</td>\n",
       "      <td>NaN</td>\n",
       "      <td>NaN</td>\n",
       "      <td>NaN</td>\n",
       "      <td>NaN</td>\n",
       "      <td>NaN</td>\n",
       "      <td>NaN</td>\n",
       "      <td>NaN</td>\n",
       "      <td>NaN</td>\n",
       "    </tr>\n",
       "  </tbody>\n",
       "</table>\n",
       "<p>6968 rows × 14 columns</p>\n",
       "</div>"
      ],
      "text/plain": [
       "             date    year        type    country              state  \\\n",
       "0     04 Mar 2024  2024.0  Unprovoked        USA             Hawaii   \n",
       "1     02 Mar-2024  2024.0  Unprovoked        USA             Hawaii   \n",
       "2     25 Feb-2024  2024.0  Unprovoked  AUSTRALIA  Western Australia   \n",
       "3     14 Feb-2024  2024.0  Unprovoked      INDIA        Maharashtra   \n",
       "4     04-Feb-2024  2024.0    Provoked   TRINIDAD                NaN   \n",
       "...           ...     ...         ...        ...                ...   \n",
       "6963          NaN     NaN         NaN        NaN                NaN   \n",
       "6964          NaN     NaN         NaN        NaN                NaN   \n",
       "6965          NaN     NaN         NaN        NaN                NaN   \n",
       "6966          NaN     NaN         NaN        NaN                NaN   \n",
       "6967          NaN     NaN         NaN        NaN                NaN   \n",
       "\n",
       "                              location      activity                 name  \\\n",
       "0                   Old Man's, Waikiki       Surfing        Matthew White   \n",
       "1                       Rainbows, Oahu      Swimming                  NaN   \n",
       "2           Sandlnd Island, Jurian Bay           NaN               female   \n",
       "3     Vaitarna River, Palghar District       Fishing  Vicky Suresh Govari   \n",
       "4                                  NaN  Spearfishing                 male   \n",
       "...                                ...           ...                  ...   \n",
       "6963                               NaN           NaN                  NaN   \n",
       "6964                               NaN           NaN                  NaN   \n",
       "6965                               NaN           NaN                  NaN   \n",
       "6966                               NaN           NaN                  NaN   \n",
       "6967                               NaN           NaN                  NaN   \n",
       "\n",
       "      sex  age                          injury   time             species_  \\\n",
       "0       M  NaN  No injury, shark bit surfboard    NaN       Tiger shark 8'   \n",
       "1       F   11        Lacerations to left foot  13h30       3' to 4' shark   \n",
       "2       F   46                      Leg bitten  11h30          Tiger shark   \n",
       "3       M   32  Calf of lower left leg injured    NaN       Bull shark, 7'   \n",
       "4       M  NaN                 Shoulder bitten  06h30  Blacktip reef shark   \n",
       "...   ...  ...                             ...    ...                  ...   \n",
       "6963  NaN  NaN                             NaN    NaN                  NaN   \n",
       "6964  NaN  NaN                             NaN    NaN                  NaN   \n",
       "6965  NaN  NaN                             NaN    NaN                  NaN   \n",
       "6966  NaN  NaN                             NaN    NaN                  NaN   \n",
       "6967  NaN  NaN                             NaN    NaN                  NaN   \n",
       "\n",
       "                            source  \n",
       "0                Surfer, 3/6/2024F  \n",
       "1        Hawaii News Now, 3/4/2024  \n",
       "2              WA Today, 2/26/2024  \n",
       "3        Times of India, 2/14/2024  \n",
       "4     Trinidad Guardian, 2/11/2014  \n",
       "...                            ...  \n",
       "6963                           NaN  \n",
       "6964                           NaN  \n",
       "6965                           NaN  \n",
       "6966                           NaN  \n",
       "6967                           NaN  \n",
       "\n",
       "[6968 rows x 14 columns]"
      ]
     },
     "execution_count": 13,
     "metadata": {},
     "output_type": "execute_result"
    }
   ],
   "source": [
    "new_df = df.drop(columns = ['unnamed:_11','unnamed:_22','unnamed:_21','original_order','case_number','case_number.1','pdf','href_formula','href'])\n",
    "new_df"
   ]
  },
  {
   "cell_type": "code",
   "execution_count": 14,
   "id": "de9b4bbb-9b00-40bb-9e83-51a2860bae3b",
   "metadata": {},
   "outputs": [
    {
     "data": {
      "text/plain": [
       "Index(['date', 'year', 'type', 'country', 'state', 'location', 'activity',\n",
       "       'name', 'sex', 'age', 'injury', 'time', 'species_', 'source'],\n",
       "      dtype='object')"
      ]
     },
     "execution_count": 14,
     "metadata": {},
     "output_type": "execute_result"
    }
   ],
   "source": [
    "new_df.columns"
   ]
  },
  {
   "cell_type": "code",
   "execution_count": 15,
   "id": "e085020e-e591-4ab0-a6ed-f12275b96cb1",
   "metadata": {},
   "outputs": [
    {
     "data": {
      "text/plain": [
       "array(['04 Mar 2024', '02 Mar-2024', '25 Feb-2024', ..., '1883-1889',\n",
       "       '1845-1853', nan], dtype=object)"
      ]
     },
     "execution_count": 15,
     "metadata": {},
     "output_type": "execute_result"
    }
   ],
   "source": [
    "new_df.date.unique()\n",
    "#pd.to_datetime(new_df,dayfirst=True)"
   ]
  },
  {
   "cell_type": "code",
   "execution_count": 16,
   "id": "72c27fcd-f17c-47fe-bd7c-11fa83887c2d",
   "metadata": {},
   "outputs": [
    {
     "data": {
      "text/plain": [
       "date\n",
       "1957           9\n",
       "1942           8\n",
       "1958           7\n",
       "1941           6\n",
       "No date        6\n",
       "              ..\n",
       "07-Jul-2000    1\n",
       "09-Jul-2000    1\n",
       "10-Jul-2000    1\n",
       "12-Jul-2000    1\n",
       "1845-1853      1\n",
       "Name: count, Length: 6002, dtype: int64"
      ]
     },
     "execution_count": 16,
     "metadata": {},
     "output_type": "execute_result"
    }
   ],
   "source": [
    "new_df.date.value_counts()"
   ]
  },
  {
   "cell_type": "code",
   "execution_count": 17,
   "id": "3869957a-ff34-4977-966e-d079bbf8477e",
   "metadata": {},
   "outputs": [
    {
     "data": {
      "text/plain": [
       "'# Extract valid date from \"Reported\" strings\\nnew_df[\\'valid_date\\'] = new_df[\\'date\\'].str.extract(r\\'(\\\\d{1,2}-[A-Za-z]{3}-\\\\d{4})\\')\\nnew_df[\\'valid_date\\'] = new_df[\\'valid_date\\'].str.replace(\\'Nox\\', \\'Nov\\')\\n# Fill missing dates with a default value (January 1, 1900)\\nnew_df[\\'date\\'] = new_df[\\'date\\'].fillna(\\'01-Jan-1900\\')\\n\\n# Convert to datetime again\\nnew_df[\\'valid_date\\'] = pd.to_datetime(new_df[\\'date\\'], format=\\'%d-%b-%Y\\')\\nprint(new_df)'"
      ]
     },
     "execution_count": 17,
     "metadata": {},
     "output_type": "execute_result"
    }
   ],
   "source": [
    "\"\"\"# Extract valid date from \"Reported\" strings\n",
    "new_df['valid_date'] = new_df['date'].str.extract(r'(\\d{1,2}-[A-Za-z]{3}-\\d{4})')\n",
    "new_df['valid_date'] = new_df['valid_date'].str.replace('Nox', 'Nov')\n",
    "# Fill missing dates with a default value (January 1, 1900)\n",
    "new_df['date'] = new_df['date'].fillna('01-Jan-1900')\n",
    "\n",
    "# Convert to datetime again\n",
    "new_df['valid_date'] = pd.to_datetime(new_df['date'], format='%d-%b-%Y')\n",
    "print(new_df)\"\"\""
   ]
  },
  {
   "cell_type": "code",
   "execution_count": 18,
   "id": "34f3a48f-4b7e-4211-adfd-8a4d3cf731db",
   "metadata": {},
   "outputs": [],
   "source": [
    "#new_df['date'] = pd.to_datetime(new_df['date'], errors='coerce')"
   ]
  },
  {
   "cell_type": "code",
   "execution_count": 19,
   "id": "93966375-f192-47d9-9bc1-d628a6e78ea2",
   "metadata": {},
   "outputs": [],
   "source": [
    "#new_df.shape[0] / new_df.age.isna().sum()"
   ]
  },
  {
   "cell_type": "markdown",
   "id": "52dadfd5-1732-4d84-bcbd-3f3807ce585e",
   "metadata": {},
   "source": [
    "### Year- Converting Float to Int Datatype"
   ]
  },
  {
   "cell_type": "code",
   "execution_count": 20,
   "id": "810e82f9-d4f0-41bc-a82d-88b512275938",
   "metadata": {},
   "outputs": [
    {
     "name": "stdout",
     "output_type": "stream",
     "text": [
      "<class 'pandas.core.frame.DataFrame'>\n",
      "RangeIndex: 6968 entries, 0 to 6967\n",
      "Data columns (total 14 columns):\n",
      " #   Column    Non-Null Count  Dtype  \n",
      "---  ------    --------------  -----  \n",
      " 0   date      6943 non-null   object \n",
      " 1   year      6941 non-null   float64\n",
      " 2   type      6925 non-null   object \n",
      " 3   country   6893 non-null   object \n",
      " 4   state     6461 non-null   object \n",
      " 5   location  6378 non-null   object \n",
      " 6   activity  6357 non-null   object \n",
      " 7   name      6723 non-null   object \n",
      " 8   sex       6364 non-null   object \n",
      " 9   age       3949 non-null   object \n",
      " 10  injury    6908 non-null   object \n",
      " 11  time      3417 non-null   object \n",
      " 12  species_  3811 non-null   object \n",
      " 13  source    6924 non-null   object \n",
      "dtypes: float64(1), object(13)\n",
      "memory usage: 762.3+ KB\n"
     ]
    }
   ],
   "source": [
    "new_df.info()"
   ]
  },
  {
   "cell_type": "code",
   "execution_count": 21,
   "id": "b505f702-cd9a-4261-8c5b-727c1bc91aec",
   "metadata": {},
   "outputs": [],
   "source": [
    "mean_year = new_df['year'].mean() \n",
    "new_df['year'].fillna(mean_year, inplace=True)"
   ]
  },
  {
   "cell_type": "code",
   "execution_count": 22,
   "id": "44376f08-dd9e-44d6-a091-e7729b71f645",
   "metadata": {},
   "outputs": [
    {
     "name": "stdout",
     "output_type": "stream",
     "text": [
      "<class 'pandas.core.frame.DataFrame'>\n",
      "RangeIndex: 6968 entries, 0 to 6967\n",
      "Data columns (total 14 columns):\n",
      " #   Column    Non-Null Count  Dtype  \n",
      "---  ------    --------------  -----  \n",
      " 0   date      6943 non-null   object \n",
      " 1   year      6968 non-null   float64\n",
      " 2   type      6925 non-null   object \n",
      " 3   country   6893 non-null   object \n",
      " 4   state     6461 non-null   object \n",
      " 5   location  6378 non-null   object \n",
      " 6   activity  6357 non-null   object \n",
      " 7   name      6723 non-null   object \n",
      " 8   sex       6364 non-null   object \n",
      " 9   age       3949 non-null   object \n",
      " 10  injury    6908 non-null   object \n",
      " 11  time      3417 non-null   object \n",
      " 12  species_  3811 non-null   object \n",
      " 13  source    6924 non-null   object \n",
      "dtypes: float64(1), object(13)\n",
      "memory usage: 762.3+ KB\n"
     ]
    }
   ],
   "source": [
    "new_df.info()"
   ]
  },
  {
   "cell_type": "code",
   "execution_count": 23,
   "id": "25e89ac4-f29b-4e4c-9033-a603294630b9",
   "metadata": {},
   "outputs": [],
   "source": [
    "new_df['year'] = new_df['year'].astype(int)"
   ]
  },
  {
   "cell_type": "code",
   "execution_count": 24,
   "id": "e6da6eb3-4322-4fbe-9144-e8f6bc6516c5",
   "metadata": {},
   "outputs": [
    {
     "data": {
      "text/plain": [
       "0       2024\n",
       "1       2024\n",
       "2       2024\n",
       "3       2024\n",
       "4       2024\n",
       "        ... \n",
       "6963    1934\n",
       "6964    1934\n",
       "6965    1934\n",
       "6966    1934\n",
       "6967    1934\n",
       "Name: year, Length: 6968, dtype: int32"
      ]
     },
     "execution_count": 24,
     "metadata": {},
     "output_type": "execute_result"
    }
   ],
   "source": [
    "new_df['year']"
   ]
  },
  {
   "cell_type": "markdown",
   "id": "8547158f-88e9-40e6-99c8-b1d577d47c6a",
   "metadata": {},
   "source": [
    "### Type"
   ]
  },
  {
   "cell_type": "code",
   "execution_count": 25,
   "id": "75e3a9dc-a76b-4526-ba48-29f9bccb4c1f",
   "metadata": {},
   "outputs": [
    {
     "data": {
      "text/plain": [
       "type\n",
       "Unprovoked             5106\n",
       "Provoked                635\n",
       "Invalid                 552\n",
       "Watercraft              355\n",
       "Sea Disaster            242\n",
       "Questionable             22\n",
       "Boat                      7\n",
       " Provoked                 2\n",
       "?                         1\n",
       "Unconfirmed               1\n",
       "Unverified                1\n",
       "Under investigation       1\n",
       "Name: count, dtype: int64"
      ]
     },
     "execution_count": 25,
     "metadata": {},
     "output_type": "execute_result"
    }
   ],
   "source": [
    "new_df['type'].value_counts()"
   ]
  },
  {
   "cell_type": "code",
   "execution_count": 26,
   "id": "8fcd0c31-48bb-46c3-98bc-1df4233d2550",
   "metadata": {},
   "outputs": [],
   "source": [
    "new_df['type'] = new_df['type'].str.strip()  # Remove leading/trailing spaces\n",
    "new_df['type'].replace({'Provoked': 'Provoked'}, inplace=True)  # Merge similar categories\n",
    "new_df.drop(new_df[new_df['type'] == '?'].index, inplace=True)\n",
    "new_df['type'].replace(['Unconfirmed', 'Unverified', 'Under investigation'], 'Investigation', inplace=True)\n",
    "new_df['type'].replace(['Questionable'],'Invalid',inplace=True)"
   ]
  },
  {
   "cell_type": "code",
   "execution_count": 27,
   "id": "9cc3d442-c197-4b80-a30a-c0fd9e718528",
   "metadata": {},
   "outputs": [
    {
     "data": {
      "text/plain": [
       "type\n",
       "Unprovoked       5106\n",
       "Provoked          637\n",
       "Invalid           574\n",
       "Watercraft        355\n",
       "Sea Disaster      242\n",
       "Boat                7\n",
       "Investigation       3\n",
       "Name: count, dtype: int64"
      ]
     },
     "execution_count": 27,
     "metadata": {},
     "output_type": "execute_result"
    }
   ],
   "source": [
    "new_df['type'].value_counts()"
   ]
  },
  {
   "cell_type": "code",
   "execution_count": 28,
   "id": "f01c2b4b-0f3d-4f6d-b1c8-4ca41a2ba32a",
   "metadata": {},
   "outputs": [
    {
     "data": {
      "text/html": [
       "<div>\n",
       "<style scoped>\n",
       "    .dataframe tbody tr th:only-of-type {\n",
       "        vertical-align: middle;\n",
       "    }\n",
       "\n",
       "    .dataframe tbody tr th {\n",
       "        vertical-align: top;\n",
       "    }\n",
       "\n",
       "    .dataframe thead th {\n",
       "        text-align: right;\n",
       "    }\n",
       "</style>\n",
       "<table border=\"1\" class=\"dataframe\">\n",
       "  <thead>\n",
       "    <tr style=\"text-align: right;\">\n",
       "      <th></th>\n",
       "      <th>date</th>\n",
       "      <th>year</th>\n",
       "      <th>type</th>\n",
       "      <th>country</th>\n",
       "      <th>state</th>\n",
       "      <th>location</th>\n",
       "      <th>activity</th>\n",
       "      <th>name</th>\n",
       "      <th>sex</th>\n",
       "      <th>age</th>\n",
       "      <th>injury</th>\n",
       "      <th>time</th>\n",
       "      <th>species_</th>\n",
       "      <th>source</th>\n",
       "    </tr>\n",
       "  </thead>\n",
       "  <tbody>\n",
       "    <tr>\n",
       "      <th>0</th>\n",
       "      <td>04 Mar 2024</td>\n",
       "      <td>2024</td>\n",
       "      <td>Unprovoked</td>\n",
       "      <td>USA</td>\n",
       "      <td>Hawaii</td>\n",
       "      <td>Old Man's, Waikiki</td>\n",
       "      <td>Surfing</td>\n",
       "      <td>Matthew White</td>\n",
       "      <td>M</td>\n",
       "      <td>NaN</td>\n",
       "      <td>No injury, shark bit surfboard</td>\n",
       "      <td>NaN</td>\n",
       "      <td>Tiger shark 8'</td>\n",
       "      <td>Surfer, 3/6/2024F</td>\n",
       "    </tr>\n",
       "    <tr>\n",
       "      <th>1</th>\n",
       "      <td>02 Mar-2024</td>\n",
       "      <td>2024</td>\n",
       "      <td>Unprovoked</td>\n",
       "      <td>USA</td>\n",
       "      <td>Hawaii</td>\n",
       "      <td>Rainbows, Oahu</td>\n",
       "      <td>Swimming</td>\n",
       "      <td>NaN</td>\n",
       "      <td>F</td>\n",
       "      <td>11</td>\n",
       "      <td>Lacerations to left foot</td>\n",
       "      <td>13h30</td>\n",
       "      <td>3' to 4' shark</td>\n",
       "      <td>Hawaii News Now, 3/4/2024</td>\n",
       "    </tr>\n",
       "    <tr>\n",
       "      <th>2</th>\n",
       "      <td>25 Feb-2024</td>\n",
       "      <td>2024</td>\n",
       "      <td>Unprovoked</td>\n",
       "      <td>AUSTRALIA</td>\n",
       "      <td>Western Australia</td>\n",
       "      <td>Sandlnd Island, Jurian Bay</td>\n",
       "      <td>NaN</td>\n",
       "      <td>female</td>\n",
       "      <td>F</td>\n",
       "      <td>46</td>\n",
       "      <td>Leg bitten</td>\n",
       "      <td>11h30</td>\n",
       "      <td>Tiger shark</td>\n",
       "      <td>WA Today, 2/26/2024</td>\n",
       "    </tr>\n",
       "    <tr>\n",
       "      <th>3</th>\n",
       "      <td>14 Feb-2024</td>\n",
       "      <td>2024</td>\n",
       "      <td>Unprovoked</td>\n",
       "      <td>INDIA</td>\n",
       "      <td>Maharashtra</td>\n",
       "      <td>Vaitarna River, Palghar District</td>\n",
       "      <td>Fishing</td>\n",
       "      <td>Vicky Suresh Govari</td>\n",
       "      <td>M</td>\n",
       "      <td>32</td>\n",
       "      <td>Calf of lower left leg injured</td>\n",
       "      <td>NaN</td>\n",
       "      <td>Bull shark, 7'</td>\n",
       "      <td>Times of India, 2/14/2024</td>\n",
       "    </tr>\n",
       "    <tr>\n",
       "      <th>4</th>\n",
       "      <td>04-Feb-2024</td>\n",
       "      <td>2024</td>\n",
       "      <td>Provoked</td>\n",
       "      <td>TRINIDAD</td>\n",
       "      <td>NaN</td>\n",
       "      <td>NaN</td>\n",
       "      <td>Spearfishing</td>\n",
       "      <td>male</td>\n",
       "      <td>M</td>\n",
       "      <td>NaN</td>\n",
       "      <td>Shoulder bitten</td>\n",
       "      <td>06h30</td>\n",
       "      <td>Blacktip reef shark</td>\n",
       "      <td>Trinidad Guardian, 2/11/2014</td>\n",
       "    </tr>\n",
       "  </tbody>\n",
       "</table>\n",
       "</div>"
      ],
      "text/plain": [
       "          date  year        type    country              state  \\\n",
       "0  04 Mar 2024  2024  Unprovoked        USA             Hawaii   \n",
       "1  02 Mar-2024  2024  Unprovoked        USA             Hawaii   \n",
       "2  25 Feb-2024  2024  Unprovoked  AUSTRALIA  Western Australia   \n",
       "3  14 Feb-2024  2024  Unprovoked      INDIA        Maharashtra   \n",
       "4  04-Feb-2024  2024    Provoked   TRINIDAD                NaN   \n",
       "\n",
       "                           location      activity                 name sex  \\\n",
       "0                Old Man's, Waikiki       Surfing        Matthew White   M   \n",
       "1                    Rainbows, Oahu      Swimming                  NaN   F   \n",
       "2        Sandlnd Island, Jurian Bay           NaN               female   F   \n",
       "3  Vaitarna River, Palghar District       Fishing  Vicky Suresh Govari   M   \n",
       "4                               NaN  Spearfishing                 male   M   \n",
       "\n",
       "   age                          injury   time             species_  \\\n",
       "0  NaN  No injury, shark bit surfboard    NaN       Tiger shark 8'   \n",
       "1   11        Lacerations to left foot  13h30       3' to 4' shark   \n",
       "2   46                      Leg bitten  11h30          Tiger shark   \n",
       "3   32  Calf of lower left leg injured    NaN       Bull shark, 7'   \n",
       "4  NaN                 Shoulder bitten  06h30  Blacktip reef shark   \n",
       "\n",
       "                         source  \n",
       "0             Surfer, 3/6/2024F  \n",
       "1     Hawaii News Now, 3/4/2024  \n",
       "2           WA Today, 2/26/2024  \n",
       "3     Times of India, 2/14/2024  \n",
       "4  Trinidad Guardian, 2/11/2014  "
      ]
     },
     "execution_count": 28,
     "metadata": {},
     "output_type": "execute_result"
    }
   ],
   "source": [
    "new_df.head()"
   ]
  },
  {
   "cell_type": "markdown",
   "id": "d94f9f97-cd39-4bb5-b09a-e850e79c972b",
   "metadata": {},
   "source": [
    "### Sex"
   ]
  },
  {
   "cell_type": "code",
   "execution_count": 29,
   "id": "6673af14-6245-433b-a4a9-a48dd1cce47e",
   "metadata": {},
   "outputs": [
    {
     "data": {
      "text/plain": [
       "sex\n",
       "M        5577\n",
       "F         778\n",
       "M           2\n",
       "N           2\n",
       " M          1\n",
       "lli         1\n",
       "M x 2       1\n",
       ".           1\n",
       "Name: count, dtype: int64"
      ]
     },
     "execution_count": 29,
     "metadata": {},
     "output_type": "execute_result"
    }
   ],
   "source": [
    "new_df.sex.value_counts()"
   ]
  },
  {
   "cell_type": "code",
   "execution_count": 30,
   "id": "24cfc779-2371-4baa-814b-bd880f9f1673",
   "metadata": {},
   "outputs": [
    {
     "data": {
      "text/plain": [
       "sex\n",
       "M    5580\n",
       "F     778\n",
       "Name: count, dtype: int64"
      ]
     },
     "execution_count": 30,
     "metadata": {},
     "output_type": "execute_result"
    }
   ],
   "source": [
    "new_df['sex'] = new_df['sex'].str.strip()\n",
    "new_df['sex'].replace(['N','.','lli','M x 2'],np.nan,inplace=True)\n",
    "new_df['sex'].value_counts()"
   ]
  },
  {
   "cell_type": "markdown",
   "id": "98abdb9b-1ab9-4da8-9ea4-2d3e9bfc4fe7",
   "metadata": {},
   "source": [
    "### Activity\t"
   ]
  },
  {
   "cell_type": "code",
   "execution_count": 31,
   "id": "fdc85f47-cfe9-43f8-a538-9dbce08d605d",
   "metadata": {},
   "outputs": [
    {
     "data": {
      "text/plain": [
       "1336                      Surfing\n",
       "982                           NaN\n",
       "6015    Fell overboard & swimming\n",
       "6209                     Swimming\n",
       "3761                      Surfing\n",
       "3763                      Fishing\n",
       "616                       Walking\n",
       "1403                       Wading\n",
       "3417                 Spearfishing\n",
       "6669                     Swimming\n",
       "Name: activity, dtype: object"
      ]
     },
     "execution_count": 31,
     "metadata": {},
     "output_type": "execute_result"
    }
   ],
   "source": [
    "new_df.activity.sample(10)"
   ]
  },
  {
   "cell_type": "code",
   "execution_count": 32,
   "id": "4a176f92-9a8d-49b4-8570-ff5a7b7e3475",
   "metadata": {},
   "outputs": [
    {
     "data": {
      "text/plain": [
       "activity\n",
       "SURFING            1126\n",
       "SWIMMING           1022\n",
       "FISHING             504\n",
       "SPEARFISHING        390\n",
       "WADING              174\n",
       "BATHING             166\n",
       "DIVING              144\n",
       "SNORKELING          129\n",
       "STANDING            115\n",
       "SCUBA DIVING        101\n",
       "BODY BOARDING        70\n",
       "BOOGIE BOARDING      59\n",
       "BODY SURFING         55\n",
       "KAYAKING             41\n",
       "FREE DIVING          35\n",
       "TREADING WATER       33\n",
       "FELL OVERBOARD       33\n",
       "PEARL DIVING         32\n",
       "SURF SKIING          24\n",
       "WINDSURFING          20\n",
       "Name: count, dtype: int64"
      ]
     },
     "execution_count": 32,
     "metadata": {},
     "output_type": "execute_result"
    }
   ],
   "source": [
    "#new_df.activity.value_counts()\n",
    "new_df['activity'] = new_df['activity'].str.strip()\n",
    "new_df['activity'] = new_df['activity'].str.upper()\n",
    "new_df['activity'].value_counts().head(20)"
   ]
  },
  {
   "cell_type": "code",
   "execution_count": 33,
   "id": "da80e4e1-61b8-4726-b215-e47057cb99e9",
   "metadata": {},
   "outputs": [],
   "source": [
    "new_df['activity'].replace(['JUMPING','STANDING','WADING','WALKING','PLAYING','SPLASHING','DANGLING FEET IN THE WATER'],'BATHING',inplace=True)\n",
    "new_df['activity'].replace(['BODY SURFING','BOOGIE BOARDING','BODY-BOARDING'],'BODY BOARDING',inplace=True)\n",
    "new_df['activity'].replace('.*SPEARFISHING.*','SPEARFISHING',regex=True,inplace=True)\n",
    "new_df['activity'].replace('.*DIVING.*','DIVING',regex=True,inplace=True)\n",
    "new_df['activity'].replace(['.*SURFING','KITE BOARDING','.*SKIING'],'SURFING',regex=True,inplace=True)\n",
    "new_df['activity'].replace(['.*KAYAK.*','.*BOAT.*','CANOEING','ROWING','SAILING','FISHING FOR MACKEREL'],'ON BOAT',regex=True,inplace=True)\n",
    "new_df['activity'].replace(['TREADING WATER','FLOATING ON HIS BACK'],'FLOATING',inplace=True)\n",
    "new_df['activity'].replace(['.*OVERBOARD.*','JUMPED INTO THE WATER'],'FELL INTO THE WATER',regex=True,inplace=True)\n",
    "new_df['activity'].replace('FREEDOM SWIMMING','SWIMMING',inplace=True)\n",
    "new_df['activity'].replace('SURF FISHING','WADE FISHING',inplace=True)\n",
    "new_df['activity'].replace(['SITTING ON SURFBOARD','SURFING (SITTING ON HIS BOARD)','PADDLE BOARDING','STAND-UP PADDLEBOARDING','PADDLING ON SURFBOARD'],'ON SURFBOARD',inplace=True)\n",
    "new_df['activity'].replace(['.{,30} SHARK.','SHARK RELATED ACTIVITY.*'],'SHARK RELATED ACTIVITY',regex=True,inplace=True)"
   ]
  },
  {
   "cell_type": "code",
   "execution_count": 34,
   "id": "a31375fb-a82d-4df8-8805-b4e7190e1ae7",
   "metadata": {},
   "outputs": [
    {
     "data": {
      "text/plain": [
       "activity\n",
       "SURFING                   1239\n",
       "OTHER                     1104\n",
       "SWIMMING                  1031\n",
       "DIVING                     572\n",
       "FISHING                    504\n",
       "BATHING                    501\n",
       "SPEARFISHING               483\n",
       "ON BOAT                    284\n",
       "BODY BOARDING              188\n",
       "SNORKELING                 129\n",
       "FELL INTO THE WATER        116\n",
       "FLOATING                    58\n",
       "SHARK RELATED ACTIVITY      42\n",
       "ON SURFBOARD                41\n",
       "WADE FISHING                21\n",
       "SHARK FISHING               16\n",
       "SEA DISASTER                14\n",
       "SHIPWRECK                    7\n",
       "MURDER                       6\n",
       "Name: count, dtype: int64"
      ]
     },
     "execution_count": 34,
     "metadata": {},
     "output_type": "execute_result"
    }
   ],
   "source": [
    "mask = new_df['activity'].value_counts().loc[new_df['activity'].value_counts() < 5].index\n",
    "new_df.loc[new_df['activity'].isin(mask),'activity'] = 'OTHER'\n",
    "new_df['activity'].value_counts().head(30)"
   ]
  },
  {
   "cell_type": "code",
   "execution_count": 35,
   "id": "26b79e43-3f5d-45a8-86d1-44b803c932a7",
   "metadata": {},
   "outputs": [],
   "source": [
    "#new_df.age.value_counts().sample(10)\n",
    "#new_df['age'] = new_df['age'].replace({\"20s\":\"25\", \"30s\":\"35\", \"teen\": \"15\", \"Teen\": \"15\", \"mid-30s\":\"35\", \"21 or 26\":\"24\", \"60's\":\"65\", \"60s\":\"65\", \"12 or 13\":\"12\", \"50s\":\"55\", \"9 & 12\":\"9\", \"Elderly\": \"12\", \"6½\":\"6\"})"
   ]
  },
  {
   "cell_type": "markdown",
   "id": "690b95eb-72e0-4e2b-9cb9-b1db9be1cd7d",
   "metadata": {},
   "source": [
    "### Age"
   ]
  },
  {
   "cell_type": "code",
   "execution_count": 36,
   "id": "87c89b17-2bac-4ce8-b236-4d3103fafcf0",
   "metadata": {},
   "outputs": [
    {
     "data": {
      "text/plain": [
       "age\n",
       "17.0    173\n",
       "16.0    165\n",
       "18.0    157\n",
       "15.0    155\n",
       "20.0    152\n",
       "19.0    150\n",
       "21.0    128\n",
       "25.0    128\n",
       "22.0    126\n",
       "14.0    114\n",
       "24.0    113\n",
       "13.0    102\n",
       "26.0     96\n",
       "35.0     91\n",
       "23.0     87\n",
       "30.0     86\n",
       "29.0     86\n",
       "28.0     86\n",
       "12.0     85\n",
       "27.0     83\n",
       "Name: count, dtype: int64"
      ]
     },
     "execution_count": 36,
     "metadata": {},
     "output_type": "execute_result"
    }
   ],
   "source": [
    "new_df['age'].replace(to_replace=['Teen','teen'],value='16',inplace=True)\n",
    "new_df['age'].replace(to_replace='30s',value='35',inplace=True)\n",
    "new_df['age'].replace(to_replace='20s',value='25',inplace=True)\n",
    "new_df['age'] = pd.to_numeric(new_df['age'], errors='coerce', downcast='integer')\n",
    "new_df['age'].value_counts().head(20)"
   ]
  },
  {
   "cell_type": "markdown",
   "id": "2833a8d0-70ad-441e-a92e-9af82f0854ba",
   "metadata": {},
   "source": [
    "### country"
   ]
  },
  {
   "cell_type": "code",
   "execution_count": 37,
   "id": "22e44e2f-fc56-4637-8769-3b7fdf18d261",
   "metadata": {},
   "outputs": [
    {
     "data": {
      "text/plain": [
       "country\n",
       "USA                 2538\n",
       "AUSTRALIA           1480\n",
       "SOUTH AFRICA         598\n",
       "NEW ZEALAND          145\n",
       "PAPUA NEW GUINEA     136\n",
       "BAHAMAS              135\n",
       "BRAZIL               122\n",
       "MEXICO               106\n",
       "ITALY                 72\n",
       "FIJI                  70\n",
       "NEW CALEDONIA         65\n",
       "PHILIPPINES           64\n",
       "REUNION               60\n",
       "EGYPT                 51\n",
       "CUBA                  49\n",
       "SPAIN                 46\n",
       "MOZAMBIQUE            46\n",
       "INDIA                 41\n",
       "FRENCH POLYNESIA      37\n",
       "JAPAN                 36\n",
       "Name: count, dtype: int64"
      ]
     },
     "execution_count": 37,
     "metadata": {},
     "output_type": "execute_result"
    }
   ],
   "source": [
    "#new_df.country.unique()\n",
    "new_df['country'] = new_df['country'].str.strip()\n",
    "new_df['country'] = new_df['country'].str.upper()\n",
    "new_df['country'].replace(to_replace=['.*OCEAN','.* SEA'],value=np.nan,regex=True,inplace=True)\n",
    "new_df['country'].replace(['BETWEEN PORTUGAL & INDIA','IRAN / IRAQ','EGYPT / ISRAEL','RED SEA?'],np.nan,inplace=True)\n",
    "new_df['country'].replace('EQUATORIAL GUINEA / CAMEROON','EQUATORIAL GUINEA',inplace=True)\n",
    "new_df['country'].replace('CEYLON (SRI LANKA)','SRI LANKA',inplace=True)\n",
    "new_df['country'].replace('UNITED ARAB EMIRATES (UAE)','UNITED ARAB EMIRATES',inplace=True)\n",
    "new_df['country'].value_counts().head(20)"
   ]
  },
  {
   "cell_type": "markdown",
   "id": "256dc88b-9478-40bb-8331-cafbfbed604b",
   "metadata": {},
   "source": [
    "### species_"
   ]
  },
  {
   "cell_type": "code",
   "execution_count": 38,
   "id": "18fc0dbd-558f-431f-a7ba-56f3aba6e2f3",
   "metadata": {},
   "outputs": [
    {
     "data": {
      "text/plain": [
       "species_\n",
       "White shark                                                                                                                      194\n",
       "Shark involvement prior to death was not confirmed                                                                               105\n",
       "Invalid                                                                                                                          102\n",
       "Shark involvement not confirmed                                                                                                   92\n",
       "Tiger shark                                                                                                                       88\n",
       "                                                                                                                                ... \n",
       "Bull shark, 1.65 m [5'5\"] was speared & killed                                                                                     1\n",
       "Possibily a  1.5 to 2 m sandtiger shark                                                                                            1\n",
       "60 cm [23.6\"] blind or brown shark                                                                                                 1\n",
       "2 m [6.75'] sevengill  shark                                                                                                       1\n",
       "Said to involve a grey nurse shark that leapt out of the water and  seized the boy but species identification is questionable      1\n",
       "Name: count, Length: 1675, dtype: int64"
      ]
     },
     "execution_count": 38,
     "metadata": {},
     "output_type": "execute_result"
    }
   ],
   "source": [
    "new_df.species_.value_counts()"
   ]
  },
  {
   "cell_type": "code",
   "execution_count": 39,
   "id": "8c596c44-29d7-4415-8706-8568d05c8745",
   "metadata": {},
   "outputs": [],
   "source": [
    "import matplotlib.pyplot as plt\n",
    "import seaborn as sns"
   ]
  },
  {
   "cell_type": "code",
   "execution_count": 40,
   "id": "70a038b1-308d-4681-a3b8-4f1832aa532a",
   "metadata": {},
   "outputs": [
    {
     "data": {
      "image/png": "[encoded data removed]",
      "text/plain": [
       "<Figure size 1200x600 with 1 Axes>"
      ]
     },
     "metadata": {},
     "output_type": "display_data"
    }
   ],
   "source": [
    "plt.figure(figsize=(12,6))\n",
    "sns.barplot(x='type',y='year',data=new_df)\n",
    "plt.show()"
   ]
  },
  {
   "cell_type": "code",
   "execution_count": 41,
   "id": "f7d1c4a4-6f81-4ee5-bbe7-9355cf6cbd08",
   "metadata": {},
   "outputs": [
    {
     "data": {
      "text/plain": [
       "<Axes: xlabel='type', ylabel='count'>"
      ]
     },
     "execution_count": 41,
     "metadata": {},
     "output_type": "execute_result"
    },
    {
     "data": {
      "image/png": "[encoded data removed]",
      "text/plain": [
       "<Figure size 1200x600 with 1 Axes>"
      ]
     },
     "metadata": {},
     "output_type": "display_data"
    }
   ],
   "source": [
    "plt.figure(figsize=(12,6))\n",
    "sns.countplot(x='type',data=new_df)"
   ]
  },
  {
   "cell_type": "code",
   "execution_count": 42,
   "id": "d2c8588b-b2fb-495d-ac8e-c632d60ce80d",
   "metadata": {},
   "outputs": [],
   "source": [
    "#plt.figure(figsize=(12,6))\n",
    "#sns.countplot(x='',data= dataframe)"
   ]
  },
  {
   "cell_type": "code",
   "execution_count": 43,
   "id": "ae5b1cee-a3c1-4240-b266-66f5a0685c10",
   "metadata": {},
   "outputs": [],
   "source": [
    "### What were the countries with the most shark attacks?"
   ]
  },
  {
   "cell_type": "code",
   "execution_count": 44,
   "id": "172cfc58-a2f6-463a-b8a6-ffc710ac16db",
   "metadata": {},
   "outputs": [
    {
     "data": {
      "text/plain": [
       "\"country_counts = new_df['country'].value_counts()\\nplt.figure(figsize=(10, 6))\\nplt.bar(country_counts.index, country_counts.values, color='skyblue')\\nplt.xlabel('Country')\\nplt.ylabel('Number of Shark Attacks')\\nplt.title('Shark Attacks by Country')\\nplt.xticks(rotation=45)\\nplt.tight_layout()\\nplt.show()\""
      ]
     },
     "execution_count": 44,
     "metadata": {},
     "output_type": "execute_result"
    }
   ],
   "source": [
    "\"\"\"country_counts = new_df['country'].value_counts()\n",
    "plt.figure(figsize=(10, 6))\n",
    "plt.bar(country_counts.index, country_counts.values, color='skyblue')\n",
    "plt.xlabel('Country')\n",
    "plt.ylabel('Number of Shark Attacks')\n",
    "plt.title('Shark Attacks by Country')\n",
    "plt.xticks(rotation=45)\n",
    "plt.tight_layout()\n",
    "plt.show()\"\"\""
   ]
  },
  {
   "cell_type": "code",
   "execution_count": 49,
   "id": "12508d52-376b-4644-a135-48fab29833ad",
   "metadata": {},
   "outputs": [
    {
     "data": {
      "text/html": [
       "<div>\n",
       "<style scoped>\n",
       "    .dataframe tbody tr th:only-of-type {\n",
       "        vertical-align: middle;\n",
       "    }\n",
       "\n",
       "    .dataframe tbody tr th {\n",
       "        vertical-align: top;\n",
       "    }\n",
       "\n",
       "    .dataframe thead th {\n",
       "        text-align: right;\n",
       "    }\n",
       "</style>\n",
       "<table border=\"1\" class=\"dataframe\">\n",
       "  <thead>\n",
       "    <tr style=\"text-align: right;\">\n",
       "      <th></th>\n",
       "      <th>count</th>\n",
       "    </tr>\n",
       "    <tr>\n",
       "      <th>activity</th>\n",
       "      <th></th>\n",
       "    </tr>\n",
       "  </thead>\n",
       "  <tbody>\n",
       "    <tr>\n",
       "      <th>SURFING</th>\n",
       "      <td>1239</td>\n",
       "    </tr>\n",
       "    <tr>\n",
       "      <th>OTHER</th>\n",
       "      <td>1104</td>\n",
       "    </tr>\n",
       "    <tr>\n",
       "      <th>SWIMMING</th>\n",
       "      <td>1031</td>\n",
       "    </tr>\n",
       "    <tr>\n",
       "      <th>DIVING</th>\n",
       "      <td>572</td>\n",
       "    </tr>\n",
       "    <tr>\n",
       "      <th>FISHING</th>\n",
       "      <td>504</td>\n",
       "    </tr>\n",
       "    <tr>\n",
       "      <th>BATHING</th>\n",
       "      <td>501</td>\n",
       "    </tr>\n",
       "    <tr>\n",
       "      <th>SPEARFISHING</th>\n",
       "      <td>483</td>\n",
       "    </tr>\n",
       "    <tr>\n",
       "      <th>ON BOAT</th>\n",
       "      <td>284</td>\n",
       "    </tr>\n",
       "    <tr>\n",
       "      <th>BODY BOARDING</th>\n",
       "      <td>188</td>\n",
       "    </tr>\n",
       "    <tr>\n",
       "      <th>SNORKELING</th>\n",
       "      <td>129</td>\n",
       "    </tr>\n",
       "    <tr>\n",
       "      <th>FELL INTO THE WATER</th>\n",
       "      <td>116</td>\n",
       "    </tr>\n",
       "    <tr>\n",
       "      <th>FLOATING</th>\n",
       "      <td>58</td>\n",
       "    </tr>\n",
       "    <tr>\n",
       "      <th>SHARK RELATED ACTIVITY</th>\n",
       "      <td>42</td>\n",
       "    </tr>\n",
       "    <tr>\n",
       "      <th>ON SURFBOARD</th>\n",
       "      <td>41</td>\n",
       "    </tr>\n",
       "    <tr>\n",
       "      <th>WADE FISHING</th>\n",
       "      <td>21</td>\n",
       "    </tr>\n",
       "    <tr>\n",
       "      <th>SHARK FISHING</th>\n",
       "      <td>16</td>\n",
       "    </tr>\n",
       "    <tr>\n",
       "      <th>SEA DISASTER</th>\n",
       "      <td>14</td>\n",
       "    </tr>\n",
       "    <tr>\n",
       "      <th>SHIPWRECK</th>\n",
       "      <td>7</td>\n",
       "    </tr>\n",
       "    <tr>\n",
       "      <th>MURDER</th>\n",
       "      <td>6</td>\n",
       "    </tr>\n",
       "  </tbody>\n",
       "</table>\n",
       "</div>"
      ],
      "text/plain": [
       "                        count\n",
       "activity                     \n",
       "SURFING                  1239\n",
       "OTHER                    1104\n",
       "SWIMMING                 1031\n",
       "DIVING                    572\n",
       "FISHING                   504\n",
       "BATHING                   501\n",
       "SPEARFISHING              483\n",
       "ON BOAT                   284\n",
       "BODY BOARDING             188\n",
       "SNORKELING                129\n",
       "FELL INTO THE WATER       116\n",
       "FLOATING                   58\n",
       "SHARK RELATED ACTIVITY     42\n",
       "ON SURFBOARD               41\n",
       "WADE FISHING               21\n",
       "SHARK FISHING              16\n",
       "SEA DISASTER               14\n",
       "SHIPWRECK                   7\n",
       "MURDER                      6"
      ]
     },
     "execution_count": 49,
     "metadata": {},
     "output_type": "execute_result"
    }
   ],
   "source": [
    "x = new_df['activity'].value_counts().to_frame()\n",
    "x"
   ]
  },
  {
   "cell_type": "code",
   "execution_count": 52,
   "id": "771998a6-6bca-4ed7-85eb-2dba26b9fceb",
   "metadata": {},
   "outputs": [],
   "source": [
    "#plt.figure(figsize=(12,6))\n",
    "surfing = new_df[new_df['activity']=='SURFING']\n",
    "swimming = new_df[new_df['activity']=='SWIMMING']\n",
    "spearfishing = new_df[new_df['activity']=='SPEARFISHING']\n",
    "wading = new_df[new_df['activity']=='WADE FISHING']\n",
    "fish = new_df[new_df['activity']=='FISHING']"
   ]
  },
  {
   "cell_type": "code",
   "execution_count": 53,
   "id": "135e8829-3e38-4e10-9849-df69ca4584cb",
   "metadata": {},
   "outputs": [
    {
     "data": {
      "image/png": "[encoded data removed]",
      "text/plain": [
       "<Figure size 640x480 with 1 Axes>"
      ]
     },
     "metadata": {},
     "output_type": "display_data"
    }
   ],
   "source": [
    "from matplotlib.pyplot import figure\n",
    "fig = figure(num=None, figsize=(8, 6), dpi=80, facecolor='w', edgecolor='k')\n",
    "ax = fig.add_axes([0,0,1,1])\n",
    "Activities = ['Swimming', 'Wading', 'Spearfishing', 'Surfing', 'Fishing']\n",
    "Attacks = [len(swimming),len(wading),len(spearfishing),len(surfing),len(fish)]\n",
    "ax.bar(Activities,Attacks)\n",
    "plt.show()"
   ]
  },
  {
   "cell_type": "markdown",
   "id": "f7288344-905d-4525-8aa2-b151441f60e4",
   "metadata": {},
   "source": [
    "### We can see that the Surfing is the most attacked activitie followed by Swimming, Spearfishing, Wading and fishing"
   ]
  },
  {
   "cell_type": "code",
   "execution_count": null,
   "id": "15e0b001-680a-456a-9b33-58a5b0e8fa0a",
   "metadata": {},
   "outputs": [],
   "source": []
  }
 ],
 "metadata": {
  "kernelspec": {
   "display_name": "Python 3 (ipykernel)",
   "language": "python",
   "name": "python3"
  },
  "language_info": {
   "codemirror_mode": {
    "name": "ipython",
    "version": 3
   },
   "file_extension": ".py",
   "mimetype": "text/x-python",
   "name": "python",
   "nbconvert_exporter": "python",
   "pygments_lexer": "ipython3",
   "version": "3.11.7"
  }
 },
 "nbformat": 4,
 "nbformat_minor": 5
}
